{
 "cells": [
  {
   "cell_type": "code",
   "execution_count": 2,
   "id": "de0331ef",
   "metadata": {},
   "outputs": [
    {
     "name": "stdout",
     "output_type": "stream",
     "text": [
      "Collecting apyori\n",
      "  Downloading apyori-1.1.2.tar.gz (8.6 kB)\n",
      "Building wheels for collected packages: apyori\n",
      "  Building wheel for apyori (setup.py): started\n",
      "  Building wheel for apyori (setup.py): finished with status 'done'\n",
      "  Created wheel for apyori: filename=apyori-1.1.2-py3-none-any.whl size=5974 sha256=2d8b07b205810b57f5b8a94b3ad4231305bf8cdf2be3761ee010fee6b095f807\n",
      "  Stored in directory: c:\\users\\hp\\appdata\\local\\pip\\cache\\wheels\\32\\2a\\54\\10c595515f385f3726642b10c60bf788029e8f3a1323e3913a\n",
      "Successfully built apyori\n",
      "Installing collected packages: apyori\n",
      "Successfully installed apyori-1.1.2\n"
     ]
    }
   ],
   "source": [
    "!pip install apyori"
   ]
  },
  {
   "cell_type": "code",
   "execution_count": 7,
   "id": "e0291774",
   "metadata": {},
   "outputs": [],
   "source": [
    "import csv\n",
    "import numpy as np\n",
    "import pandas as pd\n",
    "import matplotlib.pyplot as plt \n",
    "from scipy.special import comb\n",
    "from itertools import combinations, permutations\n",
    "from apyori import apriori as apr\n",
    "from mlxtend.frequent_patterns import apriori, association_rules\n",
    "import scipy as sp\n",
    "from mpl_toolkits.mplot3d import Axes3D\n",
    "import matplotlib.pyplot as plt\n",
    "import seaborn as sns\n",
    "from mlxtend.preprocessing import TransactionEncoder\n",
    "import warnings\n",
    "warnings.filterwarnings(\"ignore\")\n"
   ]
  },
  {
   "cell_type": "markdown",
   "id": "564da1e4",
   "metadata": {},
   "source": [
    "Prepare rules for the all the data sets \n",
    "1. Try different values of support and confidence \n",
    "Observe the change in number of rules for different support, confidence values\n",
    "2. Change the minimum length in aprirori algorithm\n",
    "3. Visulize the obtained rules using different plots."
   ]
  },
  {
   "cell_type": "code",
   "execution_count": 8,
   "id": "4cbdd919",
   "metadata": {},
   "outputs": [
    {
     "data": {
      "text/html": [
       "<div>\n",
       "<style scoped>\n",
       "    .dataframe tbody tr th:only-of-type {\n",
       "        vertical-align: middle;\n",
       "    }\n",
       "\n",
       "    .dataframe tbody tr th {\n",
       "        vertical-align: top;\n",
       "    }\n",
       "\n",
       "    .dataframe thead th {\n",
       "        text-align: right;\n",
       "    }\n",
       "</style>\n",
       "<table border=\"1\" class=\"dataframe\">\n",
       "  <thead>\n",
       "    <tr style=\"text-align: right;\">\n",
       "      <th></th>\n",
       "      <th>ChildBks</th>\n",
       "      <th>YouthBks</th>\n",
       "      <th>CookBks</th>\n",
       "      <th>DoItYBks</th>\n",
       "      <th>RefBks</th>\n",
       "      <th>ArtBks</th>\n",
       "      <th>GeogBks</th>\n",
       "      <th>ItalCook</th>\n",
       "      <th>ItalAtlas</th>\n",
       "      <th>ItalArt</th>\n",
       "      <th>Florence</th>\n",
       "    </tr>\n",
       "  </thead>\n",
       "  <tbody>\n",
       "    <tr>\n",
       "      <th>0</th>\n",
       "      <td>0</td>\n",
       "      <td>1</td>\n",
       "      <td>0</td>\n",
       "      <td>1</td>\n",
       "      <td>0</td>\n",
       "      <td>0</td>\n",
       "      <td>1</td>\n",
       "      <td>0</td>\n",
       "      <td>0</td>\n",
       "      <td>0</td>\n",
       "      <td>0</td>\n",
       "    </tr>\n",
       "    <tr>\n",
       "      <th>1</th>\n",
       "      <td>1</td>\n",
       "      <td>0</td>\n",
       "      <td>0</td>\n",
       "      <td>0</td>\n",
       "      <td>0</td>\n",
       "      <td>0</td>\n",
       "      <td>0</td>\n",
       "      <td>0</td>\n",
       "      <td>0</td>\n",
       "      <td>0</td>\n",
       "      <td>0</td>\n",
       "    </tr>\n",
       "    <tr>\n",
       "      <th>2</th>\n",
       "      <td>0</td>\n",
       "      <td>0</td>\n",
       "      <td>0</td>\n",
       "      <td>0</td>\n",
       "      <td>0</td>\n",
       "      <td>0</td>\n",
       "      <td>0</td>\n",
       "      <td>0</td>\n",
       "      <td>0</td>\n",
       "      <td>0</td>\n",
       "      <td>0</td>\n",
       "    </tr>\n",
       "    <tr>\n",
       "      <th>3</th>\n",
       "      <td>1</td>\n",
       "      <td>1</td>\n",
       "      <td>1</td>\n",
       "      <td>0</td>\n",
       "      <td>1</td>\n",
       "      <td>0</td>\n",
       "      <td>1</td>\n",
       "      <td>0</td>\n",
       "      <td>0</td>\n",
       "      <td>0</td>\n",
       "      <td>0</td>\n",
       "    </tr>\n",
       "    <tr>\n",
       "      <th>4</th>\n",
       "      <td>0</td>\n",
       "      <td>0</td>\n",
       "      <td>1</td>\n",
       "      <td>0</td>\n",
       "      <td>0</td>\n",
       "      <td>0</td>\n",
       "      <td>1</td>\n",
       "      <td>0</td>\n",
       "      <td>0</td>\n",
       "      <td>0</td>\n",
       "      <td>0</td>\n",
       "    </tr>\n",
       "  </tbody>\n",
       "</table>\n",
       "</div>"
      ],
      "text/plain": [
       "   ChildBks  YouthBks  CookBks  DoItYBks  RefBks  ArtBks  GeogBks  ItalCook  \\\n",
       "0         0         1        0         1       0       0        1         0   \n",
       "1         1         0        0         0       0       0        0         0   \n",
       "2         0         0        0         0       0       0        0         0   \n",
       "3         1         1        1         0       1       0        1         0   \n",
       "4         0         0        1         0       0       0        1         0   \n",
       "\n",
       "   ItalAtlas  ItalArt  Florence  \n",
       "0          0        0         0  \n",
       "1          0        0         0  \n",
       "2          0        0         0  \n",
       "3          0        0         0  \n",
       "4          0        0         0  "
      ]
     },
     "execution_count": 8,
     "metadata": {},
     "output_type": "execute_result"
    }
   ],
   "source": [
    "df = pd.read_csv(\"book.csv\")\n",
    "df.head()"
   ]
  },
  {
   "cell_type": "code",
   "execution_count": 9,
   "id": "36063115",
   "metadata": {},
   "outputs": [],
   "source": [
    "df1 = df.copy()"
   ]
  },
  {
   "cell_type": "code",
   "execution_count": 10,
   "id": "5fb7f8f2",
   "metadata": {},
   "outputs": [
    {
     "data": {
      "text/html": [
       "<div>\n",
       "<style scoped>\n",
       "    .dataframe tbody tr th:only-of-type {\n",
       "        vertical-align: middle;\n",
       "    }\n",
       "\n",
       "    .dataframe tbody tr th {\n",
       "        vertical-align: top;\n",
       "    }\n",
       "\n",
       "    .dataframe thead th {\n",
       "        text-align: right;\n",
       "    }\n",
       "</style>\n",
       "<table border=\"1\" class=\"dataframe\">\n",
       "  <thead>\n",
       "    <tr style=\"text-align: right;\">\n",
       "      <th></th>\n",
       "      <th>count</th>\n",
       "      <th>mean</th>\n",
       "      <th>std</th>\n",
       "      <th>min</th>\n",
       "      <th>25%</th>\n",
       "      <th>50%</th>\n",
       "      <th>75%</th>\n",
       "      <th>max</th>\n",
       "    </tr>\n",
       "  </thead>\n",
       "  <tbody>\n",
       "    <tr>\n",
       "      <th>ChildBks</th>\n",
       "      <td>2000.0</td>\n",
       "      <td>0.4230</td>\n",
       "      <td>0.494159</td>\n",
       "      <td>0.0</td>\n",
       "      <td>0.0</td>\n",
       "      <td>0.0</td>\n",
       "      <td>1.0</td>\n",
       "      <td>1.0</td>\n",
       "    </tr>\n",
       "    <tr>\n",
       "      <th>YouthBks</th>\n",
       "      <td>2000.0</td>\n",
       "      <td>0.2475</td>\n",
       "      <td>0.431668</td>\n",
       "      <td>0.0</td>\n",
       "      <td>0.0</td>\n",
       "      <td>0.0</td>\n",
       "      <td>0.0</td>\n",
       "      <td>1.0</td>\n",
       "    </tr>\n",
       "    <tr>\n",
       "      <th>CookBks</th>\n",
       "      <td>2000.0</td>\n",
       "      <td>0.4310</td>\n",
       "      <td>0.495340</td>\n",
       "      <td>0.0</td>\n",
       "      <td>0.0</td>\n",
       "      <td>0.0</td>\n",
       "      <td>1.0</td>\n",
       "      <td>1.0</td>\n",
       "    </tr>\n",
       "    <tr>\n",
       "      <th>DoItYBks</th>\n",
       "      <td>2000.0</td>\n",
       "      <td>0.2820</td>\n",
       "      <td>0.450086</td>\n",
       "      <td>0.0</td>\n",
       "      <td>0.0</td>\n",
       "      <td>0.0</td>\n",
       "      <td>1.0</td>\n",
       "      <td>1.0</td>\n",
       "    </tr>\n",
       "    <tr>\n",
       "      <th>RefBks</th>\n",
       "      <td>2000.0</td>\n",
       "      <td>0.2145</td>\n",
       "      <td>0.410578</td>\n",
       "      <td>0.0</td>\n",
       "      <td>0.0</td>\n",
       "      <td>0.0</td>\n",
       "      <td>0.0</td>\n",
       "      <td>1.0</td>\n",
       "    </tr>\n",
       "    <tr>\n",
       "      <th>ArtBks</th>\n",
       "      <td>2000.0</td>\n",
       "      <td>0.2410</td>\n",
       "      <td>0.427797</td>\n",
       "      <td>0.0</td>\n",
       "      <td>0.0</td>\n",
       "      <td>0.0</td>\n",
       "      <td>0.0</td>\n",
       "      <td>1.0</td>\n",
       "    </tr>\n",
       "    <tr>\n",
       "      <th>GeogBks</th>\n",
       "      <td>2000.0</td>\n",
       "      <td>0.2760</td>\n",
       "      <td>0.447129</td>\n",
       "      <td>0.0</td>\n",
       "      <td>0.0</td>\n",
       "      <td>0.0</td>\n",
       "      <td>1.0</td>\n",
       "      <td>1.0</td>\n",
       "    </tr>\n",
       "    <tr>\n",
       "      <th>ItalCook</th>\n",
       "      <td>2000.0</td>\n",
       "      <td>0.1135</td>\n",
       "      <td>0.317282</td>\n",
       "      <td>0.0</td>\n",
       "      <td>0.0</td>\n",
       "      <td>0.0</td>\n",
       "      <td>0.0</td>\n",
       "      <td>1.0</td>\n",
       "    </tr>\n",
       "    <tr>\n",
       "      <th>ItalAtlas</th>\n",
       "      <td>2000.0</td>\n",
       "      <td>0.0370</td>\n",
       "      <td>0.188809</td>\n",
       "      <td>0.0</td>\n",
       "      <td>0.0</td>\n",
       "      <td>0.0</td>\n",
       "      <td>0.0</td>\n",
       "      <td>1.0</td>\n",
       "    </tr>\n",
       "    <tr>\n",
       "      <th>ItalArt</th>\n",
       "      <td>2000.0</td>\n",
       "      <td>0.0485</td>\n",
       "      <td>0.214874</td>\n",
       "      <td>0.0</td>\n",
       "      <td>0.0</td>\n",
       "      <td>0.0</td>\n",
       "      <td>0.0</td>\n",
       "      <td>1.0</td>\n",
       "    </tr>\n",
       "    <tr>\n",
       "      <th>Florence</th>\n",
       "      <td>2000.0</td>\n",
       "      <td>0.1085</td>\n",
       "      <td>0.311089</td>\n",
       "      <td>0.0</td>\n",
       "      <td>0.0</td>\n",
       "      <td>0.0</td>\n",
       "      <td>0.0</td>\n",
       "      <td>1.0</td>\n",
       "    </tr>\n",
       "  </tbody>\n",
       "</table>\n",
       "</div>"
      ],
      "text/plain": [
       "            count    mean       std  min  25%  50%  75%  max\n",
       "ChildBks   2000.0  0.4230  0.494159  0.0  0.0  0.0  1.0  1.0\n",
       "YouthBks   2000.0  0.2475  0.431668  0.0  0.0  0.0  0.0  1.0\n",
       "CookBks    2000.0  0.4310  0.495340  0.0  0.0  0.0  1.0  1.0\n",
       "DoItYBks   2000.0  0.2820  0.450086  0.0  0.0  0.0  1.0  1.0\n",
       "RefBks     2000.0  0.2145  0.410578  0.0  0.0  0.0  0.0  1.0\n",
       "ArtBks     2000.0  0.2410  0.427797  0.0  0.0  0.0  0.0  1.0\n",
       "GeogBks    2000.0  0.2760  0.447129  0.0  0.0  0.0  1.0  1.0\n",
       "ItalCook   2000.0  0.1135  0.317282  0.0  0.0  0.0  0.0  1.0\n",
       "ItalAtlas  2000.0  0.0370  0.188809  0.0  0.0  0.0  0.0  1.0\n",
       "ItalArt    2000.0  0.0485  0.214874  0.0  0.0  0.0  0.0  1.0\n",
       "Florence   2000.0  0.1085  0.311089  0.0  0.0  0.0  0.0  1.0"
      ]
     },
     "execution_count": 10,
     "metadata": {},
     "output_type": "execute_result"
    }
   ],
   "source": [
    "df1.describe().T"
   ]
  },
  {
   "cell_type": "code",
   "execution_count": 11,
   "id": "e35a4c60",
   "metadata": {},
   "outputs": [
    {
     "data": {
      "text/plain": [
       "ChildBks     0\n",
       "YouthBks     0\n",
       "CookBks      0\n",
       "DoItYBks     0\n",
       "RefBks       0\n",
       "ArtBks       0\n",
       "GeogBks      0\n",
       "ItalCook     0\n",
       "ItalAtlas    0\n",
       "ItalArt      0\n",
       "Florence     0\n",
       "dtype: int64"
      ]
     },
     "execution_count": 11,
     "metadata": {},
     "output_type": "execute_result"
    }
   ],
   "source": [
    "df1.isnull().sum()"
   ]
  },
  {
   "cell_type": "code",
   "execution_count": 12,
   "id": "204afc37",
   "metadata": {},
   "outputs": [
    {
     "data": {
      "text/plain": [
       "ChildBks     int64\n",
       "YouthBks     int64\n",
       "CookBks      int64\n",
       "DoItYBks     int64\n",
       "RefBks       int64\n",
       "ArtBks       int64\n",
       "GeogBks      int64\n",
       "ItalCook     int64\n",
       "ItalAtlas    int64\n",
       "ItalArt      int64\n",
       "Florence     int64\n",
       "dtype: object"
      ]
     },
     "execution_count": 12,
     "metadata": {},
     "output_type": "execute_result"
    }
   ],
   "source": [
    "df1.dtypes"
   ]
  },
  {
   "cell_type": "code",
   "execution_count": 13,
   "id": "0599c6e3",
   "metadata": {},
   "outputs": [
    {
     "data": {
      "text/plain": [
       "(2000, 11)"
      ]
     },
     "execution_count": 13,
     "metadata": {},
     "output_type": "execute_result"
    }
   ],
   "source": [
    "df1.shape"
   ]
  },
  {
   "cell_type": "code",
   "execution_count": 14,
   "id": "18195cda",
   "metadata": {},
   "outputs": [],
   "source": [
    "item_sets = {}"
   ]
  },
  {
   "cell_type": "code",
   "execution_count": 16,
   "id": "75f46586",
   "metadata": {},
   "outputs": [],
   "source": [
    "te = TransactionEncoder()\n",
    "te_ary = te.fit(df1).transform(df1)\n",
    "ap = pd.DataFrame(te_ary, columns=te.columns_)"
   ]
  },
  {
   "cell_type": "code",
   "execution_count": 17,
   "id": "12853c26",
   "metadata": {},
   "outputs": [
    {
     "data": {
      "image/png": "[encoded data removed]",
      "text/plain": [
       "<Figure size 864x576 with 1 Axes>"
      ]
     },
     "metadata": {
      "needs_background": "light"
     },
     "output_type": "display_data"
    }
   ],
   "source": [
    "ap.sum().to_frame('Frequency').sort_values('Frequency',ascending=False)[:25].plot(kind='bar',\n",
    "                                                                                  figsize=(12,8),\n",
    "                                                                                  title=\"Frequent Items\")\n",
    "plt.show()\n"
   ]
  },
  {
   "cell_type": "code",
   "execution_count": 18,
   "id": "5586d66b",
   "metadata": {},
   "outputs": [],
   "source": [
    "ap_0_5 = {}\n",
    "ap_1 = {}\n",
    "ap_5 = {}\n",
    "ap_1_0 = {}"
   ]
  },
  {
   "cell_type": "code",
   "execution_count": 20,
   "id": "94791d99",
   "metadata": {},
   "outputs": [],
   "source": [
    "confidence = [0.1,0.2,0.3,0.4,0.5,0.6,0.7,0.8,0.9]"
   ]
  },
  {
   "cell_type": "code",
   "execution_count": 21,
   "id": "b7e1359a",
   "metadata": {},
   "outputs": [],
   "source": [
    "def gen_rules(df,confidence,support):\n",
    "    ap = {}\n",
    "    for i in confidence:\n",
    "        ap_i = apriori(df1,support,True)\n",
    "        rule = association_rules(ap_i,min_threshold = i)\n",
    "        ap[i] = len(rule.antecedents)\n",
    "    return pd.Series(ap).to_frame(\"Support : %s\"%support)"
   ]
  },
  {
   "cell_type": "code",
   "execution_count": 22,
   "id": "a09683aa",
   "metadata": {},
   "outputs": [],
   "source": [
    "confs = []"
   ]
  },
  {
   "cell_type": "code",
   "execution_count": 23,
   "id": "f717edb8",
   "metadata": {},
   "outputs": [],
   "source": [
    "for i in [0.001,0.005,0.01,0.05,0.1]:\n",
    "    ap_i = gen_rules(ap,confidence=confidence,support=i)\n",
    "    confs.append(ap_i)"
   ]
  },
  {
   "cell_type": "code",
   "execution_count": 24,
   "id": "593a49c3",
   "metadata": {},
   "outputs": [
    {
     "data": {
      "image/png": "[encoded data removed]",
      "text/plain": [
       "<Figure size 576x576 with 1 Axes>"
      ]
     },
     "metadata": {
      "needs_background": "light"
     },
     "output_type": "display_data"
    }
   ],
   "source": [
    "all_conf = pd.concat(confs,axis=1)\n",
    "all_conf.plot(figsize=(8,8),grid=True)\n",
    "plt.ylabel('Rules')\n",
    "plt.xlabel('Confidence')\n",
    "plt.show()"
   ]
  },
  {
   "cell_type": "markdown",
   "id": "3840e4cd",
   "metadata": {},
   "source": [
    "Conslusion\n",
    "\n",
    "As shown in above graph\n",
    "1. Lower the Confidence level Higher the no. or rules.\n",
    "2. Higher the Support, lower the no. of rules."
   ]
  },
  {
   "cell_type": "code",
   "execution_count": 26,
   "id": "fcddf06d",
   "metadata": {},
   "outputs": [],
   "source": [
    "ap_final =  apriori(ap,0.001,True)"
   ]
  },
  {
   "cell_type": "code",
   "execution_count": 27,
   "id": "66330438",
   "metadata": {},
   "outputs": [],
   "source": [
    "rules_final = association_rules(ap_final,min_threshold = .4, support_only = False)"
   ]
  },
  {
   "cell_type": "code",
   "execution_count": 28,
   "id": "55af4097",
   "metadata": {},
   "outputs": [
    {
     "data": {
      "text/html": [
       "<div>\n",
       "<style scoped>\n",
       "    .dataframe tbody tr th:only-of-type {\n",
       "        vertical-align: middle;\n",
       "    }\n",
       "\n",
       "    .dataframe tbody tr th {\n",
       "        vertical-align: top;\n",
       "    }\n",
       "\n",
       "    .dataframe thead th {\n",
       "        text-align: right;\n",
       "    }\n",
       "</style>\n",
       "<table border=\"1\" class=\"dataframe\">\n",
       "  <thead>\n",
       "    <tr style=\"text-align: right;\">\n",
       "      <th></th>\n",
       "      <th>antecedents</th>\n",
       "      <th>consequents</th>\n",
       "      <th>antecedent support</th>\n",
       "      <th>consequent support</th>\n",
       "      <th>support</th>\n",
       "      <th>confidence</th>\n",
       "      <th>lift</th>\n",
       "      <th>leverage</th>\n",
       "      <th>conviction</th>\n",
       "    </tr>\n",
       "  </thead>\n",
       "  <tbody>\n",
       "    <tr>\n",
       "      <th>1</th>\n",
       "      <td>(A)</td>\n",
       "      <td>(I)</td>\n",
       "      <td>0.0015</td>\n",
       "      <td>0.0020</td>\n",
       "      <td>0.001</td>\n",
       "      <td>0.666667</td>\n",
       "      <td>333.333333</td>\n",
       "      <td>0.000997</td>\n",
       "      <td>2.9940</td>\n",
       "    </tr>\n",
       "    <tr>\n",
       "      <th>2</th>\n",
       "      <td>(A)</td>\n",
       "      <td>(a)</td>\n",
       "      <td>0.0015</td>\n",
       "      <td>0.0015</td>\n",
       "      <td>0.001</td>\n",
       "      <td>0.666667</td>\n",
       "      <td>444.444444</td>\n",
       "      <td>0.000998</td>\n",
       "      <td>2.9955</td>\n",
       "    </tr>\n",
       "    <tr>\n",
       "      <th>3</th>\n",
       "      <td>(a)</td>\n",
       "      <td>(A)</td>\n",
       "      <td>0.0015</td>\n",
       "      <td>0.0015</td>\n",
       "      <td>0.001</td>\n",
       "      <td>0.666667</td>\n",
       "      <td>444.444444</td>\n",
       "      <td>0.000998</td>\n",
       "      <td>2.9955</td>\n",
       "    </tr>\n",
       "    <tr>\n",
       "      <th>5</th>\n",
       "      <td>(A)</td>\n",
       "      <td>(l)</td>\n",
       "      <td>0.0015</td>\n",
       "      <td>0.0025</td>\n",
       "      <td>0.001</td>\n",
       "      <td>0.666667</td>\n",
       "      <td>266.666667</td>\n",
       "      <td>0.000996</td>\n",
       "      <td>2.9925</td>\n",
       "    </tr>\n",
       "    <tr>\n",
       "      <th>6</th>\n",
       "      <td>(A)</td>\n",
       "      <td>(r)</td>\n",
       "      <td>0.0015</td>\n",
       "      <td>0.0015</td>\n",
       "      <td>0.001</td>\n",
       "      <td>0.666667</td>\n",
       "      <td>444.444444</td>\n",
       "      <td>0.000998</td>\n",
       "      <td>2.9955</td>\n",
       "    </tr>\n",
       "    <tr>\n",
       "      <th>...</th>\n",
       "      <td>...</td>\n",
       "      <td>...</td>\n",
       "      <td>...</td>\n",
       "      <td>...</td>\n",
       "      <td>...</td>\n",
       "      <td>...</td>\n",
       "      <td>...</td>\n",
       "      <td>...</td>\n",
       "      <td>...</td>\n",
       "    </tr>\n",
       "    <tr>\n",
       "      <th>741</th>\n",
       "      <td>(Y, B)</td>\n",
       "      <td>(s, o, t, k)</td>\n",
       "      <td>0.0010</td>\n",
       "      <td>0.0010</td>\n",
       "      <td>0.001</td>\n",
       "      <td>1.000000</td>\n",
       "      <td>1000.000000</td>\n",
       "      <td>0.000999</td>\n",
       "      <td>inf</td>\n",
       "    </tr>\n",
       "    <tr>\n",
       "      <th>742</th>\n",
       "      <td>(Y, k)</td>\n",
       "      <td>(s, o, t, B)</td>\n",
       "      <td>0.0010</td>\n",
       "      <td>0.0010</td>\n",
       "      <td>0.001</td>\n",
       "      <td>1.000000</td>\n",
       "      <td>1000.000000</td>\n",
       "      <td>0.000999</td>\n",
       "      <td>inf</td>\n",
       "    </tr>\n",
       "    <tr>\n",
       "      <th>743</th>\n",
       "      <td>(Y, s)</td>\n",
       "      <td>(o, t, B, k)</td>\n",
       "      <td>0.0010</td>\n",
       "      <td>0.0010</td>\n",
       "      <td>0.001</td>\n",
       "      <td>1.000000</td>\n",
       "      <td>1000.000000</td>\n",
       "      <td>0.000999</td>\n",
       "      <td>inf</td>\n",
       "    </tr>\n",
       "    <tr>\n",
       "      <th>744</th>\n",
       "      <td>(t, B)</td>\n",
       "      <td>(o, s, Y, k)</td>\n",
       "      <td>0.0015</td>\n",
       "      <td>0.0010</td>\n",
       "      <td>0.001</td>\n",
       "      <td>0.666667</td>\n",
       "      <td>666.666667</td>\n",
       "      <td>0.000999</td>\n",
       "      <td>2.9970</td>\n",
       "    </tr>\n",
       "    <tr>\n",
       "      <th>747</th>\n",
       "      <td>(Y)</td>\n",
       "      <td>(o, t, B, k, s)</td>\n",
       "      <td>0.0010</td>\n",
       "      <td>0.0010</td>\n",
       "      <td>0.001</td>\n",
       "      <td>1.000000</td>\n",
       "      <td>1000.000000</td>\n",
       "      <td>0.000999</td>\n",
       "      <td>inf</td>\n",
       "    </tr>\n",
       "  </tbody>\n",
       "</table>\n",
       "<p>588 rows × 9 columns</p>\n",
       "</div>"
      ],
      "text/plain": [
       "    antecedents      consequents  antecedent support  consequent support  \\\n",
       "1           (A)              (I)              0.0015              0.0020   \n",
       "2           (A)              (a)              0.0015              0.0015   \n",
       "3           (a)              (A)              0.0015              0.0015   \n",
       "5           (A)              (l)              0.0015              0.0025   \n",
       "6           (A)              (r)              0.0015              0.0015   \n",
       "..          ...              ...                 ...                 ...   \n",
       "741      (Y, B)     (s, o, t, k)              0.0010              0.0010   \n",
       "742      (Y, k)     (s, o, t, B)              0.0010              0.0010   \n",
       "743      (Y, s)     (o, t, B, k)              0.0010              0.0010   \n",
       "744      (t, B)     (o, s, Y, k)              0.0015              0.0010   \n",
       "747         (Y)  (o, t, B, k, s)              0.0010              0.0010   \n",
       "\n",
       "     support  confidence         lift  leverage  conviction  \n",
       "1      0.001    0.666667   333.333333  0.000997      2.9940  \n",
       "2      0.001    0.666667   444.444444  0.000998      2.9955  \n",
       "3      0.001    0.666667   444.444444  0.000998      2.9955  \n",
       "5      0.001    0.666667   266.666667  0.000996      2.9925  \n",
       "6      0.001    0.666667   444.444444  0.000998      2.9955  \n",
       "..       ...         ...          ...       ...         ...  \n",
       "741    0.001    1.000000  1000.000000  0.000999         inf  \n",
       "742    0.001    1.000000  1000.000000  0.000999         inf  \n",
       "743    0.001    1.000000  1000.000000  0.000999         inf  \n",
       "744    0.001    0.666667   666.666667  0.000999      2.9970  \n",
       "747    0.001    1.000000  1000.000000  0.000999         inf  \n",
       "\n",
       "[588 rows x 9 columns]"
      ]
     },
     "execution_count": 28,
     "metadata": {},
     "output_type": "execute_result"
    }
   ],
   "source": [
    "rules_final[rules_final['confidence']>0.5]"
   ]
  },
  {
   "cell_type": "code",
   "execution_count": 29,
   "id": "e02f80ae",
   "metadata": {},
   "outputs": [],
   "source": [
    "support = rules_final[\"support\"]\n",
    "confidence =  rules_final[\"confidence\"]\n",
    "lift = rules_final[\"lift\"]"
   ]
  },
  {
   "cell_type": "code",
   "execution_count": 30,
   "id": "89d02467",
   "metadata": {},
   "outputs": [
    {
     "data": {
      "text/plain": [
       "Text(0.5, 0, 'lift')"
      ]
     },
     "execution_count": 30,
     "metadata": {},
     "output_type": "execute_result"
    },
    {
     "data": {
      "image/png": "[encoded data removed]",
      "text/plain": [
       "<Figure size 432x288 with 1 Axes>"
      ]
     },
     "metadata": {
      "needs_background": "light"
     },
     "output_type": "display_data"
    }
   ],
   "source": [
    "fig1 = plt.figure()\n",
    "ax1 = fig1.add_subplot(111, projection = '3d')\n",
    "ax1.scatter(support,confidence,lift)\n",
    "ax1.set_xlabel(\"support\")\n",
    "ax1.set_ylabel(\"confidence\")\n",
    "ax1.set_zlabel(\"lift\")"
   ]
  },
  {
   "cell_type": "code",
   "execution_count": 31,
   "id": "fe6efccd",
   "metadata": {},
   "outputs": [
    {
     "data": {
      "text/plain": [
       "Text(0, 0.5, 'confidence')"
      ]
     },
     "execution_count": 31,
     "metadata": {},
     "output_type": "execute_result"
    },
    {
     "data": {
      "image/png": "[encoded data removed]",
      "text/plain": [
       "<Figure size 432x288 with 2 Axes>"
      ]
     },
     "metadata": {
      "needs_background": "light"
     },
     "output_type": "display_data"
    }
   ],
   "source": [
    "plt.scatter(support,confidence, c =lift, cmap = 'gray')\n",
    "plt.colorbar()\n",
    "plt.xlabel(\"support\");plt.ylabel(\"confidence\")"
   ]
  },
  {
   "cell_type": "markdown",
   "id": "d9ba9801",
   "metadata": {},
   "source": [
    "#  My movies"
   ]
  },
  {
   "cell_type": "markdown",
   "id": "e1955e9e",
   "metadata": {},
   "source": [
    "Prepare rules for the all the data sets\n",
    "1. Try different values of support and confidence.\n",
    "Observe the change in number of rules for different support, confidenc values.\n",
    "2. Change the minimum length in apriori algorithm\n",
    "3. Visulize the obtained rules using different plots"
   ]
  },
  {
   "cell_type": "code",
   "execution_count": 32,
   "id": "17a1056c",
   "metadata": {},
   "outputs": [
    {
     "data": {
      "text/html": [
       "<div>\n",
       "<style scoped>\n",
       "    .dataframe tbody tr th:only-of-type {\n",
       "        vertical-align: middle;\n",
       "    }\n",
       "\n",
       "    .dataframe tbody tr th {\n",
       "        vertical-align: top;\n",
       "    }\n",
       "\n",
       "    .dataframe thead th {\n",
       "        text-align: right;\n",
       "    }\n",
       "</style>\n",
       "<table border=\"1\" class=\"dataframe\">\n",
       "  <thead>\n",
       "    <tr style=\"text-align: right;\">\n",
       "      <th></th>\n",
       "      <th>V1</th>\n",
       "      <th>V2</th>\n",
       "      <th>V3</th>\n",
       "      <th>V4</th>\n",
       "      <th>V5</th>\n",
       "      <th>Sixth Sense</th>\n",
       "      <th>Gladiator</th>\n",
       "      <th>LOTR1</th>\n",
       "      <th>Harry Potter1</th>\n",
       "      <th>Patriot</th>\n",
       "      <th>LOTR2</th>\n",
       "      <th>Harry Potter2</th>\n",
       "      <th>LOTR</th>\n",
       "      <th>Braveheart</th>\n",
       "      <th>Green Mile</th>\n",
       "    </tr>\n",
       "  </thead>\n",
       "  <tbody>\n",
       "    <tr>\n",
       "      <th>0</th>\n",
       "      <td>Sixth Sense</td>\n",
       "      <td>LOTR1</td>\n",
       "      <td>Harry Potter1</td>\n",
       "      <td>Green Mile</td>\n",
       "      <td>LOTR2</td>\n",
       "      <td>1</td>\n",
       "      <td>0</td>\n",
       "      <td>1</td>\n",
       "      <td>1</td>\n",
       "      <td>0</td>\n",
       "      <td>1</td>\n",
       "      <td>0</td>\n",
       "      <td>0</td>\n",
       "      <td>0</td>\n",
       "      <td>1</td>\n",
       "    </tr>\n",
       "    <tr>\n",
       "      <th>1</th>\n",
       "      <td>Gladiator</td>\n",
       "      <td>Patriot</td>\n",
       "      <td>Braveheart</td>\n",
       "      <td>NaN</td>\n",
       "      <td>NaN</td>\n",
       "      <td>0</td>\n",
       "      <td>1</td>\n",
       "      <td>0</td>\n",
       "      <td>0</td>\n",
       "      <td>1</td>\n",
       "      <td>0</td>\n",
       "      <td>0</td>\n",
       "      <td>0</td>\n",
       "      <td>1</td>\n",
       "      <td>0</td>\n",
       "    </tr>\n",
       "    <tr>\n",
       "      <th>2</th>\n",
       "      <td>LOTR1</td>\n",
       "      <td>LOTR2</td>\n",
       "      <td>NaN</td>\n",
       "      <td>NaN</td>\n",
       "      <td>NaN</td>\n",
       "      <td>0</td>\n",
       "      <td>0</td>\n",
       "      <td>1</td>\n",
       "      <td>0</td>\n",
       "      <td>0</td>\n",
       "      <td>1</td>\n",
       "      <td>0</td>\n",
       "      <td>0</td>\n",
       "      <td>0</td>\n",
       "      <td>0</td>\n",
       "    </tr>\n",
       "    <tr>\n",
       "      <th>3</th>\n",
       "      <td>Gladiator</td>\n",
       "      <td>Patriot</td>\n",
       "      <td>Sixth Sense</td>\n",
       "      <td>NaN</td>\n",
       "      <td>NaN</td>\n",
       "      <td>1</td>\n",
       "      <td>1</td>\n",
       "      <td>0</td>\n",
       "      <td>0</td>\n",
       "      <td>1</td>\n",
       "      <td>0</td>\n",
       "      <td>0</td>\n",
       "      <td>0</td>\n",
       "      <td>0</td>\n",
       "      <td>0</td>\n",
       "    </tr>\n",
       "    <tr>\n",
       "      <th>4</th>\n",
       "      <td>Gladiator</td>\n",
       "      <td>Patriot</td>\n",
       "      <td>Sixth Sense</td>\n",
       "      <td>NaN</td>\n",
       "      <td>NaN</td>\n",
       "      <td>1</td>\n",
       "      <td>1</td>\n",
       "      <td>0</td>\n",
       "      <td>0</td>\n",
       "      <td>1</td>\n",
       "      <td>0</td>\n",
       "      <td>0</td>\n",
       "      <td>0</td>\n",
       "      <td>0</td>\n",
       "      <td>0</td>\n",
       "    </tr>\n",
       "  </tbody>\n",
       "</table>\n",
       "</div>"
      ],
      "text/plain": [
       "            V1       V2             V3          V4     V5  Sixth Sense  \\\n",
       "0  Sixth Sense    LOTR1  Harry Potter1  Green Mile  LOTR2            1   \n",
       "1    Gladiator  Patriot     Braveheart         NaN    NaN            0   \n",
       "2        LOTR1    LOTR2            NaN         NaN    NaN            0   \n",
       "3    Gladiator  Patriot    Sixth Sense         NaN    NaN            1   \n",
       "4    Gladiator  Patriot    Sixth Sense         NaN    NaN            1   \n",
       "\n",
       "   Gladiator  LOTR1  Harry Potter1  Patriot  LOTR2  Harry Potter2  LOTR  \\\n",
       "0          0      1              1        0      1              0     0   \n",
       "1          1      0              0        1      0              0     0   \n",
       "2          0      1              0        0      1              0     0   \n",
       "3          1      0              0        1      0              0     0   \n",
       "4          1      0              0        1      0              0     0   \n",
       "\n",
       "   Braveheart  Green Mile  \n",
       "0           0           1  \n",
       "1           1           0  \n",
       "2           0           0  \n",
       "3           0           0  \n",
       "4           0           0  "
      ]
     },
     "execution_count": 32,
     "metadata": {},
     "output_type": "execute_result"
    }
   ],
   "source": [
    "df = pd.read_csv(\"my_movies.csv\")\n",
    "df.head()"
   ]
  },
  {
   "cell_type": "code",
   "execution_count": 33,
   "id": "24679043",
   "metadata": {},
   "outputs": [
    {
     "data": {
      "text/html": [
       "<div>\n",
       "<style scoped>\n",
       "    .dataframe tbody tr th:only-of-type {\n",
       "        vertical-align: middle;\n",
       "    }\n",
       "\n",
       "    .dataframe tbody tr th {\n",
       "        vertical-align: top;\n",
       "    }\n",
       "\n",
       "    .dataframe thead th {\n",
       "        text-align: right;\n",
       "    }\n",
       "</style>\n",
       "<table border=\"1\" class=\"dataframe\">\n",
       "  <thead>\n",
       "    <tr style=\"text-align: right;\">\n",
       "      <th></th>\n",
       "      <th>Sixth Sense</th>\n",
       "      <th>Gladiator</th>\n",
       "      <th>LOTR1</th>\n",
       "      <th>Harry Potter1</th>\n",
       "      <th>Patriot</th>\n",
       "      <th>LOTR2</th>\n",
       "      <th>Harry Potter2</th>\n",
       "      <th>LOTR</th>\n",
       "      <th>Braveheart</th>\n",
       "      <th>Green Mile</th>\n",
       "    </tr>\n",
       "  </thead>\n",
       "  <tbody>\n",
       "    <tr>\n",
       "      <th>0</th>\n",
       "      <td>1</td>\n",
       "      <td>0</td>\n",
       "      <td>1</td>\n",
       "      <td>1</td>\n",
       "      <td>0</td>\n",
       "      <td>1</td>\n",
       "      <td>0</td>\n",
       "      <td>0</td>\n",
       "      <td>0</td>\n",
       "      <td>1</td>\n",
       "    </tr>\n",
       "    <tr>\n",
       "      <th>1</th>\n",
       "      <td>0</td>\n",
       "      <td>1</td>\n",
       "      <td>0</td>\n",
       "      <td>0</td>\n",
       "      <td>1</td>\n",
       "      <td>0</td>\n",
       "      <td>0</td>\n",
       "      <td>0</td>\n",
       "      <td>1</td>\n",
       "      <td>0</td>\n",
       "    </tr>\n",
       "    <tr>\n",
       "      <th>2</th>\n",
       "      <td>0</td>\n",
       "      <td>0</td>\n",
       "      <td>1</td>\n",
       "      <td>0</td>\n",
       "      <td>0</td>\n",
       "      <td>1</td>\n",
       "      <td>0</td>\n",
       "      <td>0</td>\n",
       "      <td>0</td>\n",
       "      <td>0</td>\n",
       "    </tr>\n",
       "    <tr>\n",
       "      <th>3</th>\n",
       "      <td>1</td>\n",
       "      <td>1</td>\n",
       "      <td>0</td>\n",
       "      <td>0</td>\n",
       "      <td>1</td>\n",
       "      <td>0</td>\n",
       "      <td>0</td>\n",
       "      <td>0</td>\n",
       "      <td>0</td>\n",
       "      <td>0</td>\n",
       "    </tr>\n",
       "    <tr>\n",
       "      <th>4</th>\n",
       "      <td>1</td>\n",
       "      <td>1</td>\n",
       "      <td>0</td>\n",
       "      <td>0</td>\n",
       "      <td>1</td>\n",
       "      <td>0</td>\n",
       "      <td>0</td>\n",
       "      <td>0</td>\n",
       "      <td>0</td>\n",
       "      <td>0</td>\n",
       "    </tr>\n",
       "  </tbody>\n",
       "</table>\n",
       "</div>"
      ],
      "text/plain": [
       "   Sixth Sense  Gladiator  LOTR1  Harry Potter1  Patriot  LOTR2  \\\n",
       "0            1          0      1              1        0      1   \n",
       "1            0          1      0              0        1      0   \n",
       "2            0          0      1              0        0      1   \n",
       "3            1          1      0              0        1      0   \n",
       "4            1          1      0              0        1      0   \n",
       "\n",
       "   Harry Potter2  LOTR  Braveheart  Green Mile  \n",
       "0              0     0           0           1  \n",
       "1              0     0           1           0  \n",
       "2              0     0           0           0  \n",
       "3              0     0           0           0  \n",
       "4              0     0           0           0  "
      ]
     },
     "execution_count": 33,
     "metadata": {},
     "output_type": "execute_result"
    }
   ],
   "source": [
    "df1 = df.iloc[:,5:]\n",
    "df1.head()"
   ]
  },
  {
   "cell_type": "code",
   "execution_count": 34,
   "id": "3b904f90",
   "metadata": {},
   "outputs": [
    {
     "data": {
      "text/html": [
       "<div>\n",
       "<style scoped>\n",
       "    .dataframe tbody tr th:only-of-type {\n",
       "        vertical-align: middle;\n",
       "    }\n",
       "\n",
       "    .dataframe tbody tr th {\n",
       "        vertical-align: top;\n",
       "    }\n",
       "\n",
       "    .dataframe thead th {\n",
       "        text-align: right;\n",
       "    }\n",
       "</style>\n",
       "<table border=\"1\" class=\"dataframe\">\n",
       "  <thead>\n",
       "    <tr style=\"text-align: right;\">\n",
       "      <th></th>\n",
       "      <th>count</th>\n",
       "      <th>mean</th>\n",
       "      <th>std</th>\n",
       "      <th>min</th>\n",
       "      <th>25%</th>\n",
       "      <th>50%</th>\n",
       "      <th>75%</th>\n",
       "      <th>max</th>\n",
       "    </tr>\n",
       "  </thead>\n",
       "  <tbody>\n",
       "    <tr>\n",
       "      <th>Sixth Sense</th>\n",
       "      <td>10.0</td>\n",
       "      <td>0.6</td>\n",
       "      <td>0.516398</td>\n",
       "      <td>0.0</td>\n",
       "      <td>0.00</td>\n",
       "      <td>1.0</td>\n",
       "      <td>1.0</td>\n",
       "      <td>1.0</td>\n",
       "    </tr>\n",
       "    <tr>\n",
       "      <th>Gladiator</th>\n",
       "      <td>10.0</td>\n",
       "      <td>0.7</td>\n",
       "      <td>0.483046</td>\n",
       "      <td>0.0</td>\n",
       "      <td>0.25</td>\n",
       "      <td>1.0</td>\n",
       "      <td>1.0</td>\n",
       "      <td>1.0</td>\n",
       "    </tr>\n",
       "    <tr>\n",
       "      <th>LOTR1</th>\n",
       "      <td>10.0</td>\n",
       "      <td>0.2</td>\n",
       "      <td>0.421637</td>\n",
       "      <td>0.0</td>\n",
       "      <td>0.00</td>\n",
       "      <td>0.0</td>\n",
       "      <td>0.0</td>\n",
       "      <td>1.0</td>\n",
       "    </tr>\n",
       "    <tr>\n",
       "      <th>Harry Potter1</th>\n",
       "      <td>10.0</td>\n",
       "      <td>0.2</td>\n",
       "      <td>0.421637</td>\n",
       "      <td>0.0</td>\n",
       "      <td>0.00</td>\n",
       "      <td>0.0</td>\n",
       "      <td>0.0</td>\n",
       "      <td>1.0</td>\n",
       "    </tr>\n",
       "    <tr>\n",
       "      <th>Patriot</th>\n",
       "      <td>10.0</td>\n",
       "      <td>0.6</td>\n",
       "      <td>0.516398</td>\n",
       "      <td>0.0</td>\n",
       "      <td>0.00</td>\n",
       "      <td>1.0</td>\n",
       "      <td>1.0</td>\n",
       "      <td>1.0</td>\n",
       "    </tr>\n",
       "    <tr>\n",
       "      <th>LOTR2</th>\n",
       "      <td>10.0</td>\n",
       "      <td>0.2</td>\n",
       "      <td>0.421637</td>\n",
       "      <td>0.0</td>\n",
       "      <td>0.00</td>\n",
       "      <td>0.0</td>\n",
       "      <td>0.0</td>\n",
       "      <td>1.0</td>\n",
       "    </tr>\n",
       "    <tr>\n",
       "      <th>Harry Potter2</th>\n",
       "      <td>10.0</td>\n",
       "      <td>0.1</td>\n",
       "      <td>0.316228</td>\n",
       "      <td>0.0</td>\n",
       "      <td>0.00</td>\n",
       "      <td>0.0</td>\n",
       "      <td>0.0</td>\n",
       "      <td>1.0</td>\n",
       "    </tr>\n",
       "    <tr>\n",
       "      <th>LOTR</th>\n",
       "      <td>10.0</td>\n",
       "      <td>0.1</td>\n",
       "      <td>0.316228</td>\n",
       "      <td>0.0</td>\n",
       "      <td>0.00</td>\n",
       "      <td>0.0</td>\n",
       "      <td>0.0</td>\n",
       "      <td>1.0</td>\n",
       "    </tr>\n",
       "    <tr>\n",
       "      <th>Braveheart</th>\n",
       "      <td>10.0</td>\n",
       "      <td>0.1</td>\n",
       "      <td>0.316228</td>\n",
       "      <td>0.0</td>\n",
       "      <td>0.00</td>\n",
       "      <td>0.0</td>\n",
       "      <td>0.0</td>\n",
       "      <td>1.0</td>\n",
       "    </tr>\n",
       "    <tr>\n",
       "      <th>Green Mile</th>\n",
       "      <td>10.0</td>\n",
       "      <td>0.2</td>\n",
       "      <td>0.421637</td>\n",
       "      <td>0.0</td>\n",
       "      <td>0.00</td>\n",
       "      <td>0.0</td>\n",
       "      <td>0.0</td>\n",
       "      <td>1.0</td>\n",
       "    </tr>\n",
       "  </tbody>\n",
       "</table>\n",
       "</div>"
      ],
      "text/plain": [
       "               count  mean       std  min   25%  50%  75%  max\n",
       "Sixth Sense     10.0   0.6  0.516398  0.0  0.00  1.0  1.0  1.0\n",
       "Gladiator       10.0   0.7  0.483046  0.0  0.25  1.0  1.0  1.0\n",
       "LOTR1           10.0   0.2  0.421637  0.0  0.00  0.0  0.0  1.0\n",
       "Harry Potter1   10.0   0.2  0.421637  0.0  0.00  0.0  0.0  1.0\n",
       "Patriot         10.0   0.6  0.516398  0.0  0.00  1.0  1.0  1.0\n",
       "LOTR2           10.0   0.2  0.421637  0.0  0.00  0.0  0.0  1.0\n",
       "Harry Potter2   10.0   0.1  0.316228  0.0  0.00  0.0  0.0  1.0\n",
       "LOTR            10.0   0.1  0.316228  0.0  0.00  0.0  0.0  1.0\n",
       "Braveheart      10.0   0.1  0.316228  0.0  0.00  0.0  0.0  1.0\n",
       "Green Mile      10.0   0.2  0.421637  0.0  0.00  0.0  0.0  1.0"
      ]
     },
     "execution_count": 34,
     "metadata": {},
     "output_type": "execute_result"
    }
   ],
   "source": [
    "df1.describe().T"
   ]
  },
  {
   "cell_type": "code",
   "execution_count": 35,
   "id": "4060b084",
   "metadata": {},
   "outputs": [
    {
     "data": {
      "text/plain": [
       "Sixth Sense      0\n",
       "Gladiator        0\n",
       "LOTR1            0\n",
       "Harry Potter1    0\n",
       "Patriot          0\n",
       "LOTR2            0\n",
       "Harry Potter2    0\n",
       "LOTR             0\n",
       "Braveheart       0\n",
       "Green Mile       0\n",
       "dtype: int64"
      ]
     },
     "execution_count": 35,
     "metadata": {},
     "output_type": "execute_result"
    }
   ],
   "source": [
    "df1.isnull().sum()"
   ]
  },
  {
   "cell_type": "code",
   "execution_count": 36,
   "id": "c7800c6c",
   "metadata": {},
   "outputs": [
    {
     "data": {
      "text/plain": [
       "Sixth Sense      int64\n",
       "Gladiator        int64\n",
       "LOTR1            int64\n",
       "Harry Potter1    int64\n",
       "Patriot          int64\n",
       "LOTR2            int64\n",
       "Harry Potter2    int64\n",
       "LOTR             int64\n",
       "Braveheart       int64\n",
       "Green Mile       int64\n",
       "dtype: object"
      ]
     },
     "execution_count": 36,
     "metadata": {},
     "output_type": "execute_result"
    }
   ],
   "source": [
    "df1.dtypes"
   ]
  },
  {
   "cell_type": "code",
   "execution_count": 37,
   "id": "8dbca616",
   "metadata": {},
   "outputs": [
    {
     "data": {
      "text/plain": [
       "(10, 10)"
      ]
     },
     "execution_count": 37,
     "metadata": {},
     "output_type": "execute_result"
    }
   ],
   "source": [
    "df1.shape"
   ]
  },
  {
   "cell_type": "code",
   "execution_count": 38,
   "id": "e56db7bc",
   "metadata": {},
   "outputs": [],
   "source": [
    "item_sets = {}\n",
    "te = TransactionEncoder()\n",
    "te_ary = te.fit(df1).transform(df1)\n",
    "ap = pd.DataFrame(te_ary, columns=te.columns_)"
   ]
  },
  {
   "cell_type": "code",
   "execution_count": 39,
   "id": "375827ee",
   "metadata": {},
   "outputs": [
    {
     "data": {
      "image/png": "[encoded data removed]",
      "text/plain": [
       "<Figure size 864x576 with 1 Axes>"
      ]
     },
     "metadata": {
      "needs_background": "light"
     },
     "output_type": "display_data"
    }
   ],
   "source": [
    "ap.sum().to_frame('Frequency').sort_values('Frequency',ascending=False)[:25].plot(kind='bar',\n",
    "                                                                                  figsize=(12,8),\n",
    "                                                                                  title=\"Frequent Items\")\n",
    "plt.show()"
   ]
  },
  {
   "cell_type": "code",
   "execution_count": 40,
   "id": "6d8b0a05",
   "metadata": {},
   "outputs": [],
   "source": [
    "ap_0_5 = {}\n",
    "ap_1 = {}\n",
    "ap_5 = {}\n",
    "ap_1_0 = {}"
   ]
  },
  {
   "cell_type": "code",
   "execution_count": 41,
   "id": "fc432e86",
   "metadata": {},
   "outputs": [],
   "source": [
    "confidence = [0.1,0.2,0.3,0.4,0.5,0.6,0.7,0.8,0.9]"
   ]
  },
  {
   "cell_type": "code",
   "execution_count": 42,
   "id": "8e34b5fb",
   "metadata": {},
   "outputs": [],
   "source": [
    "def gen_rules(df,confidence,support):\n",
    "    ap = {}\n",
    "    for i in confidence:\n",
    "        ap_i =apriori(df1,support,True)\n",
    "        rule= association_rules(ap_i,min_threshold=i)\n",
    "        ap[i] = len(rule.antecedents)\n",
    "    return pd.Series(ap).to_frame(\"Support: %s\"%support)"
   ]
  },
  {
   "cell_type": "code",
   "execution_count": 43,
   "id": "8f5b1fcc",
   "metadata": {},
   "outputs": [],
   "source": [
    "confs = []"
   ]
  },
  {
   "cell_type": "code",
   "execution_count": 44,
   "id": "f4c72062",
   "metadata": {},
   "outputs": [],
   "source": [
    "for i in [0.005,0.001,0.003,0.007]:\n",
    "    ap_i = gen_rules(ap,confidence=confidence,support=i)\n",
    "    confs.append(ap_i)"
   ]
  },
  {
   "cell_type": "code",
   "execution_count": 45,
   "id": "68ba80ff",
   "metadata": {},
   "outputs": [
    {
     "data": {
      "image/png": "[encoded data removed]",
      "text/plain": [
       "<Figure size 576x576 with 1 Axes>"
      ]
     },
     "metadata": {
      "needs_background": "light"
     },
     "output_type": "display_data"
    }
   ],
   "source": [
    "all_conf = pd.concat(confs,axis=1)\n",
    "all_conf.plot(figsize=(8,8),grid=True)\n",
    "plt.ylabel('Rules')\n",
    "plt.xlabel('Confidence')\n",
    "plt.show()"
   ]
  },
  {
   "cell_type": "markdown",
   "id": "d503db16",
   "metadata": {},
   "source": [
    "Conclsion\n",
    "As shown in above graph\n",
    "1. Lower the Confidence level Higher the no. of rules.\n",
    "2. Higher the support, lower the no of rules."
   ]
  },
  {
   "cell_type": "code",
   "execution_count": 46,
   "id": "ae8bf9d2",
   "metadata": {},
   "outputs": [
    {
     "data": {
      "text/html": [
       "<div>\n",
       "<style scoped>\n",
       "    .dataframe tbody tr th:only-of-type {\n",
       "        vertical-align: middle;\n",
       "    }\n",
       "\n",
       "    .dataframe tbody tr th {\n",
       "        vertical-align: top;\n",
       "    }\n",
       "\n",
       "    .dataframe thead th {\n",
       "        text-align: right;\n",
       "    }\n",
       "</style>\n",
       "<table border=\"1\" class=\"dataframe\">\n",
       "  <thead>\n",
       "    <tr style=\"text-align: right;\">\n",
       "      <th></th>\n",
       "      <th>antecedents</th>\n",
       "      <th>consequents</th>\n",
       "      <th>antecedent support</th>\n",
       "      <th>consequent support</th>\n",
       "      <th>support</th>\n",
       "      <th>confidence</th>\n",
       "      <th>lift</th>\n",
       "      <th>leverage</th>\n",
       "      <th>conviction</th>\n",
       "    </tr>\n",
       "  </thead>\n",
       "  <tbody>\n",
       "    <tr>\n",
       "      <th>4</th>\n",
       "      <td>(H)</td>\n",
       "      <td>( )</td>\n",
       "      <td>0.2</td>\n",
       "      <td>0.4</td>\n",
       "      <td>0.2</td>\n",
       "      <td>1.000000</td>\n",
       "      <td>2.500000</td>\n",
       "      <td>0.12</td>\n",
       "      <td>inf</td>\n",
       "    </tr>\n",
       "    <tr>\n",
       "      <th>5</th>\n",
       "      <td>(M)</td>\n",
       "      <td>( )</td>\n",
       "      <td>0.1</td>\n",
       "      <td>0.4</td>\n",
       "      <td>0.1</td>\n",
       "      <td>1.000000</td>\n",
       "      <td>2.500000</td>\n",
       "      <td>0.06</td>\n",
       "      <td>inf</td>\n",
       "    </tr>\n",
       "    <tr>\n",
       "      <th>7</th>\n",
       "      <td>(P)</td>\n",
       "      <td>( )</td>\n",
       "      <td>0.3</td>\n",
       "      <td>0.4</td>\n",
       "      <td>0.2</td>\n",
       "      <td>0.666667</td>\n",
       "      <td>1.666667</td>\n",
       "      <td>0.08</td>\n",
       "      <td>1.8</td>\n",
       "    </tr>\n",
       "    <tr>\n",
       "      <th>8</th>\n",
       "      <td>(S)</td>\n",
       "      <td>( )</td>\n",
       "      <td>0.1</td>\n",
       "      <td>0.4</td>\n",
       "      <td>0.1</td>\n",
       "      <td>1.000000</td>\n",
       "      <td>2.500000</td>\n",
       "      <td>0.06</td>\n",
       "      <td>inf</td>\n",
       "    </tr>\n",
       "    <tr>\n",
       "      <th>11</th>\n",
       "      <td>( )</td>\n",
       "      <td>(e)</td>\n",
       "      <td>0.4</td>\n",
       "      <td>0.5</td>\n",
       "      <td>0.4</td>\n",
       "      <td>1.000000</td>\n",
       "      <td>2.000000</td>\n",
       "      <td>0.20</td>\n",
       "      <td>inf</td>\n",
       "    </tr>\n",
       "    <tr>\n",
       "      <th>...</th>\n",
       "      <td>...</td>\n",
       "      <td>...</td>\n",
       "      <td>...</td>\n",
       "      <td>...</td>\n",
       "      <td>...</td>\n",
       "      <td>...</td>\n",
       "      <td>...</td>\n",
       "      <td>...</td>\n",
       "      <td>...</td>\n",
       "    </tr>\n",
       "    <tr>\n",
       "      <th>113707</th>\n",
       "      <td>(2, a)</td>\n",
       "      <td>(y, P, o, r, t, e, H,  )</td>\n",
       "      <td>0.1</td>\n",
       "      <td>0.2</td>\n",
       "      <td>0.1</td>\n",
       "      <td>1.000000</td>\n",
       "      <td>5.000000</td>\n",
       "      <td>0.08</td>\n",
       "      <td>inf</td>\n",
       "    </tr>\n",
       "    <tr>\n",
       "      <th>113708</th>\n",
       "      <td>(2, t)</td>\n",
       "      <td>(y, P, o, r, a, e, H,  )</td>\n",
       "      <td>0.1</td>\n",
       "      <td>0.2</td>\n",
       "      <td>0.1</td>\n",
       "      <td>1.000000</td>\n",
       "      <td>5.000000</td>\n",
       "      <td>0.08</td>\n",
       "      <td>inf</td>\n",
       "    </tr>\n",
       "    <tr>\n",
       "      <th>113709</th>\n",
       "      <td>(2, e)</td>\n",
       "      <td>(y, P, o, r, a, t, H,  )</td>\n",
       "      <td>0.1</td>\n",
       "      <td>0.2</td>\n",
       "      <td>0.1</td>\n",
       "      <td>1.000000</td>\n",
       "      <td>5.000000</td>\n",
       "      <td>0.08</td>\n",
       "      <td>inf</td>\n",
       "    </tr>\n",
       "    <tr>\n",
       "      <th>113710</th>\n",
       "      <td>(2, H)</td>\n",
       "      <td>(y, P, o, r, a, t, e,  )</td>\n",
       "      <td>0.1</td>\n",
       "      <td>0.2</td>\n",
       "      <td>0.1</td>\n",
       "      <td>1.000000</td>\n",
       "      <td>5.000000</td>\n",
       "      <td>0.08</td>\n",
       "      <td>inf</td>\n",
       "    </tr>\n",
       "    <tr>\n",
       "      <th>113711</th>\n",
       "      <td>(2,  )</td>\n",
       "      <td>(y, P, o, r, a, t, e, H)</td>\n",
       "      <td>0.1</td>\n",
       "      <td>0.2</td>\n",
       "      <td>0.1</td>\n",
       "      <td>1.000000</td>\n",
       "      <td>5.000000</td>\n",
       "      <td>0.08</td>\n",
       "      <td>inf</td>\n",
       "    </tr>\n",
       "  </tbody>\n",
       "</table>\n",
       "<p>77761 rows × 9 columns</p>\n",
       "</div>"
      ],
      "text/plain": [
       "       antecedents               consequents  antecedent support  \\\n",
       "4              (H)                       ( )                 0.2   \n",
       "5              (M)                       ( )                 0.1   \n",
       "7              (P)                       ( )                 0.3   \n",
       "8              (S)                       ( )                 0.1   \n",
       "11             ( )                       (e)                 0.4   \n",
       "...            ...                       ...                 ...   \n",
       "113707      (2, a)  (y, P, o, r, t, e, H,  )                 0.1   \n",
       "113708      (2, t)  (y, P, o, r, a, e, H,  )                 0.1   \n",
       "113709      (2, e)  (y, P, o, r, a, t, H,  )                 0.1   \n",
       "113710      (2, H)  (y, P, o, r, a, t, e,  )                 0.1   \n",
       "113711      (2,  )  (y, P, o, r, a, t, e, H)                 0.1   \n",
       "\n",
       "        consequent support  support  confidence      lift  leverage  \\\n",
       "4                      0.4      0.2    1.000000  2.500000      0.12   \n",
       "5                      0.4      0.1    1.000000  2.500000      0.06   \n",
       "7                      0.4      0.2    0.666667  1.666667      0.08   \n",
       "8                      0.4      0.1    1.000000  2.500000      0.06   \n",
       "11                     0.5      0.4    1.000000  2.000000      0.20   \n",
       "...                    ...      ...         ...       ...       ...   \n",
       "113707                 0.2      0.1    1.000000  5.000000      0.08   \n",
       "113708                 0.2      0.1    1.000000  5.000000      0.08   \n",
       "113709                 0.2      0.1    1.000000  5.000000      0.08   \n",
       "113710                 0.2      0.1    1.000000  5.000000      0.08   \n",
       "113711                 0.2      0.1    1.000000  5.000000      0.08   \n",
       "\n",
       "        conviction  \n",
       "4              inf  \n",
       "5              inf  \n",
       "7              1.8  \n",
       "8              inf  \n",
       "11             inf  \n",
       "...            ...  \n",
       "113707         inf  \n",
       "113708         inf  \n",
       "113709         inf  \n",
       "113710         inf  \n",
       "113711         inf  \n",
       "\n",
       "[77761 rows x 9 columns]"
      ]
     },
     "execution_count": 46,
     "metadata": {},
     "output_type": "execute_result"
    }
   ],
   "source": [
    "ap_final =  apriori(ap,0.005,True)\n",
    "rules_final = association_rules(ap_final,min_threshold=.4,support_only=False)\n",
    "rules_final[rules_final['confidence'] > 0.5]"
   ]
  },
  {
   "cell_type": "code",
   "execution_count": 47,
   "id": "bb591054",
   "metadata": {},
   "outputs": [],
   "source": [
    "support = rules_final[\"support\"]\n",
    "confidence =  rules_final[\"confidence\"]\n",
    "lift = rules_final[\"lift\"]"
   ]
  },
  {
   "cell_type": "code",
   "execution_count": 48,
   "id": "7bd6d302",
   "metadata": {},
   "outputs": [
    {
     "data": {
      "text/plain": [
       "Text(0.5, 0, 'lift')"
      ]
     },
     "execution_count": 48,
     "metadata": {},
     "output_type": "execute_result"
    },
    {
     "data": {
      "image/png": "[encoded data removed]",
      "text/plain": [
       "<Figure size 432x288 with 1 Axes>"
      ]
     },
     "metadata": {
      "needs_background": "light"
     },
     "output_type": "display_data"
    }
   ],
   "source": [
    "fig1 = plt.figure()\n",
    "ax1 = fig1.add_subplot(111, projection = '3d')\n",
    "ax1.scatter(support,confidence,lift)\n",
    "ax1.set_xlabel(\"support\")\n",
    "ax1.set_ylabel(\"confidence\")\n",
    "ax1.set_zlabel(\"lift\")"
   ]
  },
  {
   "cell_type": "code",
   "execution_count": 49,
   "id": "004e5542",
   "metadata": {},
   "outputs": [
    {
     "data": {
      "text/plain": [
       "Text(0, 0.5, 'confidence')"
      ]
     },
     "execution_count": 49,
     "metadata": {},
     "output_type": "execute_result"
    },
    {
     "data": {
      "image/png": "[encoded data removed]",
      "text/plain": [
       "<Figure size 432x288 with 2 Axes>"
      ]
     },
     "metadata": {
      "needs_background": "light"
     },
     "output_type": "display_data"
    }
   ],
   "source": [
    "plt.scatter(support,confidence, c =lift, cmap = 'gray')\n",
    "plt.colorbar()\n",
    "plt.xlabel(\"support\");plt.ylabel(\"confidence\")"
   ]
  },
  {
   "cell_type": "code",
   "execution_count": null,
   "id": "787f8f5f",
   "metadata": {},
   "outputs": [],
   "source": []
  }
 ],
 "metadata": {
  "kernelspec": {
   "display_name": "Python 3 (ipykernel)",
   "language": "python",
   "name": "python3"
  },
  "language_info": {
   "codemirror_mode": {
    "name": "ipython",
    "version": 3
   },
   "file_extension": ".py",
   "mimetype": "text/x-python",
   "name": "python",
   "nbconvert_exporter": "python",
   "pygments_lexer": "ipython3",
   "version": "3.9.12"
  }
 },
 "nbformat": 4,
 "nbformat_minor": 5
}
